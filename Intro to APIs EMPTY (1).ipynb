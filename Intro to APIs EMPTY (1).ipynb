{
 "cells": [
  {
   "cell_type": "markdown",
   "id": "7196054f",
   "metadata": {},
   "source": [
    "# Working with APIs"
   ]
  },
  {
   "cell_type": "markdown",
   "id": "0547b71e",
   "metadata": {},
   "source": [
    "API stands for Application programming interface<br>\n",
    "APIs are a way for applications to talk to eachother<br>\n",
    "In python we use the requests package to handle the connection<br>\n",
    "<small><strong>Note: It is requests with an s not request(this is a different package)</strong></small><br>\n",
    "Most API's communicate with data in the form of JSON<br>\n",
    "JSON stands for JavaScript Object Notation"
   ]
  },
  {
   "cell_type": "code",
   "execution_count": 2,
   "id": "4db9d154",
   "metadata": {},
   "outputs": [],
   "source": [
    "#import the packages we need:\n",
    "import requests, json"
   ]
  },
  {
   "cell_type": "markdown",
   "id": "e8c2ce51",
   "metadata": {},
   "source": [
    "We will be connecting to the Ergast F1 Racer API today:\n",
    "http://ergast.com/mrd/\n",
    "\n",
    "to view JSON data nicely in the Chrome browser install the extension JSONview"
   ]
  },
  {
   "cell_type": "code",
   "execution_count": 4,
   "id": "52c440c6",
   "metadata": {},
   "outputs": [],
   "source": [
    "# help(requests)"
   ]
  },
  {
   "cell_type": "code",
   "execution_count": 5,
   "id": "f60c1b4a",
   "metadata": {},
   "outputs": [],
   "source": [
    "url = 'http://ergast.com/api/f1/2008/5/driverStandings.json'"
   ]
  },
  {
   "cell_type": "code",
   "execution_count": 2,
   "id": "7b63a204",
   "metadata": {},
   "outputs": [],
   "source": [
    "#response object\n"
   ]
  },
  {
   "cell_type": "code",
   "execution_count": 1,
   "id": "c6d1fdaf",
   "metadata": {},
   "outputs": [],
   "source": [
    "#check and make sure we got a successful response from the API\n"
   ]
  },
  {
   "cell_type": "code",
   "execution_count": 3,
   "id": "ed4d3256",
   "metadata": {},
   "outputs": [],
   "source": [
    "#view the response as a JSON\n"
   ]
  },
  {
   "cell_type": "code",
   "execution_count": null,
   "id": "92e6cd2c",
   "metadata": {},
   "outputs": [],
   "source": []
  },
  {
   "cell_type": "code",
   "execution_count": 4,
   "id": "f074dfcf",
   "metadata": {},
   "outputs": [],
   "source": [
    "# We only want the Driver Standings\n"
   ]
  },
  {
   "cell_type": "code",
   "execution_count": null,
   "id": "be46a950",
   "metadata": {},
   "outputs": [],
   "source": []
  },
  {
   "cell_type": "code",
   "execution_count": null,
   "id": "3740c752",
   "metadata": {},
   "outputs": [],
   "source": []
  },
  {
   "cell_type": "markdown",
   "id": "6d546014",
   "metadata": {},
   "source": [
    "# <strong>Homework</strong>\n",
    "check out this Pokemon API https://pokeapi.co/\n",
    "Use the requests package to connect to this API and get and store data for 5 different pokemon.\n",
    "Get the pokemons: name, atleast one ability's name, base_experience, and the URL for its sprite (an image that shows up on screen) for the 'front_shiny', attack base_state, hp base_stat, defense base_stat"
   ]
  },
  {
   "cell_type": "code",
   "execution_count": 1,
   "id": "5a9081e3",
   "metadata": {},
   "outputs": [
    {
     "name": "stdout",
     "output_type": "stream",
     "text": [
      "[{'bulbasaur': {'name': 'bulbasaur', 'ability': 'overgrow', 'type': 'grass', 'weight': 69}}]\n",
      "[{'ivysaur': {'name': 'ivysaur', 'ability': 'overgrow', 'type': 'grass', 'weight': 130}}]\n",
      "[{'venusaur': {'name': 'venusaur', 'ability': 'overgrow', 'type': 'grass', 'weight': 1000}}]\n",
      "[{'charmander': {'name': 'charmander', 'ability': 'blaze', 'type': 'fire', 'weight': 85}}]\n",
      "[{'charmeleon': {'name': 'charmeleon', 'ability': 'blaze', 'type': 'fire', 'weight': 190}}]\n",
      "[{'charizard': {'name': 'charizard', 'ability': 'blaze', 'type': 'fire', 'weight': 905}}]\n",
      "[{'squirtle': {'name': 'squirtle', 'ability': 'torrent', 'type': 'water', 'weight': 90}}]\n",
      "[{'wartortle': {'name': 'wartortle', 'ability': 'torrent', 'type': 'water', 'weight': 225}}]\n",
      "[{'blastoise': {'name': 'blastoise', 'ability': 'torrent', 'type': 'water', 'weight': 855}}]\n",
      "[{'caterpie': {'name': 'caterpie', 'ability': 'shield-dust', 'type': 'bug', 'weight': 29}}]\n",
      "[{'metapod': {'name': 'metapod', 'ability': 'shed-skin', 'type': 'bug', 'weight': 99}}]\n",
      "[{'butterfree': {'name': 'butterfree', 'ability': 'compound-eyes', 'type': 'bug', 'weight': 320}}]\n",
      "[{'weedle': {'name': 'weedle', 'ability': 'shield-dust', 'type': 'bug', 'weight': 32}}]\n",
      "[{'kakuna': {'name': 'kakuna', 'ability': 'shed-skin', 'type': 'bug', 'weight': 100}}]\n",
      "[{'beedrill': {'name': 'beedrill', 'ability': 'swarm', 'type': 'bug', 'weight': 295}}]\n",
      "[{'pidgey': {'name': 'pidgey', 'ability': 'keen-eye', 'type': 'normal', 'weight': 18}}]\n",
      "[{'pidgeotto': {'name': 'pidgeotto', 'ability': 'keen-eye', 'type': 'normal', 'weight': 300}}]\n",
      "[{'pidgeot': {'name': 'pidgeot', 'ability': 'keen-eye', 'type': 'normal', 'weight': 395}}]\n",
      "[{'rattata': {'name': 'rattata', 'ability': 'run-away', 'type': 'normal', 'weight': 35}}]\n",
      "[{'raticate': {'name': 'raticate', 'ability': 'run-away', 'type': 'normal', 'weight': 185}}]\n"
     ]
    }
   ],
   "source": [
    "import requests, json\n",
    "\n",
    "def get_pokemon_info(pokemon):\n",
    "    new_data = []\n",
    "    \n",
    "    pokemon_dict = {}\n",
    "    url = f'https://pokeapi.co/api/v2/pokemon/{pokemon}'\n",
    "    response = requests.get(url)\n",
    "    pokemon_dict[pokemon] = {\n",
    "        'name':f'{pokemon}',\n",
    "        'ability':response.json()[\"abilities\"][0][\"ability\"][\"name\"],\n",
    "        'type':response.json()['types'][0]['type']['name'],\n",
    "        'weight':response.json()['weight']\n",
    "        }\n",
    "    new_data.append(pokemon_dict)\n",
    "        \n",
    "    return new_data\n",
    "\n",
    "response = requests.get('https://pokeapi.co/api/v2/pokemon/')\n",
    "pokemon_list = []\n",
    "for x in range(20):\n",
    "    pokemon_list.append(response.json()['results'][x]['name'])\n",
    "\n",
    "for pokemon in pokemon_list:\n",
    "    print(get_pokemon_info(pokemon))"
   ]
  }
 ],
 "metadata": {
  "kernelspec": {
   "display_name": "Python 3 (ipykernel)",
   "language": "python",
   "name": "python3"
  },
  "language_info": {
   "codemirror_mode": {
    "name": "ipython",
    "version": 3
   },
   "file_extension": ".py",
   "mimetype": "text/x-python",
   "name": "python",
   "nbconvert_exporter": "python",
   "pygments_lexer": "ipython3",
   "version": "3.9.12"
  }
 },
 "nbformat": 4,
 "nbformat_minor": 5
}
